{
 "cells": [
  {
   "cell_type": "code",
   "execution_count": 5,
   "id": "61ecc365",
   "metadata": {},
   "outputs": [
    {
     "name": "stdout",
     "output_type": "stream",
     "text": [
      "1,1,2,3,5,8,13,21,34,55,89,144,233,377,610,987,1597,2584,4181,...\n"
     ]
    }
   ],
   "source": [
    "#Fibo seq\n",
    "def fibo(n):\n",
    "    a1=1\n",
    "    a2=1\n",
    "    print(a1, end=',')\n",
    "    for i in range(n):\n",
    "        a1,a2 = a2,a1+a2\n",
    "        print(a1, end=',')\n",
    "    print('...')\n",
    "    \n",
    "fibo(18)"
   ]
  },
  {
   "cell_type": "code",
   "execution_count": null,
   "id": "624d7439",
   "metadata": {},
   "outputs": [],
   "source": [
    "#Prime factorizaion\n",
    "def prime_fact(num):\n",
    "    def prime(n):\n",
    "        pr=[]\n",
    "        for i in range(n):\n",
    "            for j in range(i):\n",
    "                if not i%j==0:\n",
    "                    pr.append(i)\n",
    "        return pr\n",
    "    prime = prime(num)\n",
    "    for k in prime:\n",
    "        if not num%k==0:\n",
    "            print(k, end=',')"
   ]
  }
 ],
 "metadata": {
  "kernelspec": {
   "display_name": "Python 3 (ipykernel)",
   "language": "python",
   "name": "python3"
  },
  "language_info": {
   "codemirror_mode": {
    "name": "ipython",
    "version": 3
   },
   "file_extension": ".py",
   "mimetype": "text/x-python",
   "name": "python",
   "nbconvert_exporter": "python",
   "pygments_lexer": "ipython3",
   "version": "3.9.6"
  }
 },
 "nbformat": 4,
 "nbformat_minor": 5
}
