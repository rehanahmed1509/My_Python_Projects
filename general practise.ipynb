{
 "cells": [
  {
   "cell_type": "code",
   "execution_count": 21,
   "id": "39f6273e",
   "metadata": {},
   "outputs": [],
   "source": [
    "def Kelvin(T):\n",
    "    return T+273"
   ]
  },
  {
   "cell_type": "code",
   "execution_count": 17,
   "id": "ba034c6a",
   "metadata": {},
   "outputs": [],
   "source": [
    "def changetoint(num):\n",
    "    return int(num)"
   ]
  },
  {
   "cell_type": "code",
   "execution_count": 18,
   "id": "048788f1",
   "metadata": {},
   "outputs": [],
   "source": [
    "l=[1.2,2.3,3.4,4.5]"
   ]
  },
  {
   "cell_type": "code",
   "execution_count": 19,
   "id": "e1a5ca23",
   "metadata": {},
   "outputs": [
    {
     "data": {
      "text/plain": [
       "[1.2, 2.3, 3.4, 4.5]"
      ]
     },
     "execution_count": 19,
     "metadata": {},
     "output_type": "execute_result"
    }
   ],
   "source": [
    "l"
   ]
  },
  {
   "cell_type": "code",
   "execution_count": 23,
   "id": "f78a59ae",
   "metadata": {},
   "outputs": [
    {
     "name": "stdout",
     "output_type": "stream",
     "text": [
      "<map object at 0x000001729EA53430>\n"
     ]
    }
   ],
   "source": [
    "print(map(Kelvin,l))"
   ]
  },
  {
   "cell_type": "code",
   "execution_count": 6,
   "id": "5da04b6e",
   "metadata": {},
   "outputs": [
    {
     "data": {
      "text/plain": [
       "[1.2, 2.3, 3.4, 4.5]"
      ]
     },
     "execution_count": 6,
     "metadata": {},
     "output_type": "execute_result"
    }
   ],
   "source": [
    "l\n"
   ]
  },
  {
   "cell_type": "code",
   "execution_count": 32,
   "id": "8c2349e1",
   "metadata": {},
   "outputs": [
    {
     "data": {
      "text/plain": [
       "[1, 2, 3, 4]"
      ]
     },
     "execution_count": 32,
     "metadata": {},
     "output_type": "execute_result"
    }
   ],
   "source": [
    "list(map(lambda num:int(num),l))"
   ]
  },
  {
   "cell_type": "code",
   "execution_count": 16,
   "id": "86e6807d",
   "metadata": {},
   "outputs": [
    {
     "data": {
      "text/plain": [
       "<map at 0x1729ea533d0>"
      ]
     },
     "execution_count": 16,
     "metadata": {},
     "output_type": "execute_result"
    }
   ],
   "source": [
    "l\n"
   ]
  },
  {
   "cell_type": "code",
   "execution_count": 14,
   "id": "374cda88",
   "metadata": {},
   "outputs": [
    {
     "name": "stdout",
     "output_type": "stream",
     "text": [
      "<map object at 0x000001729EA533D0>\n"
     ]
    }
   ],
   "source": [
    "print(l)"
   ]
  },
  {
   "cell_type": "code",
   "execution_count": 26,
   "id": "dfe34944",
   "metadata": {},
   "outputs": [],
   "source": [
    "z=map(lambda T: T+273 , l)"
   ]
  },
  {
   "cell_type": "code",
   "execution_count": 27,
   "id": "663851b4",
   "metadata": {},
   "outputs": [
    {
     "data": {
      "text/plain": [
       "<map at 0x1729ea531c0>"
      ]
     },
     "execution_count": 27,
     "metadata": {},
     "output_type": "execute_result"
    }
   ],
   "source": [
    "z\n"
   ]
  },
  {
   "cell_type": "code",
   "execution_count": 28,
   "id": "46107094",
   "metadata": {},
   "outputs": [],
   "source": [
    "lst=[1,2,3,4,5,6,7,12,-13,2001,-2001]"
   ]
  },
  {
   "cell_type": "code",
   "execution_count": 30,
   "id": "6eb875ca",
   "metadata": {},
   "outputs": [],
   "source": [
    "max_find= lambda a,b: a if (a>b) else b"
   ]
  },
  {
   "cell_type": "code",
   "execution_count": 2,
   "id": "4bbe7c96",
   "metadata": {},
   "outputs": [],
   "source": [
    "l=[1.2,2.4,3.4,4.5,5.6,6.7,7.8,2000]"
   ]
  },
  {
   "cell_type": "code",
   "execution_count": 6,
   "id": "dcafe0f3",
   "metadata": {},
   "outputs": [],
   "source": [
    "from functools import reduce"
   ]
  },
  {
   "cell_type": "code",
   "execution_count": 5,
   "id": "86975775",
   "metadata": {},
   "outputs": [
    {
     "data": {
      "text/plain": [
       "[1, 2, 3, 4, 5, 6, 7, 2000]"
      ]
     },
     "execution_count": 5,
     "metadata": {},
     "output_type": "execute_result"
    }
   ],
   "source": [
    "list(map(lambda T: int(T), l))"
   ]
  },
  {
   "cell_type": "code",
   "execution_count": 12,
   "id": "15660a3a",
   "metadata": {},
   "outputs": [
    {
     "data": {
      "text/plain": [
       "[1.2, 2.4, 3.4, 4.5, 5.6, 6.7, 7.8, 2000]"
      ]
     },
     "execution_count": 12,
     "metadata": {},
     "output_type": "execute_result"
    }
   ],
   "source": [
    "l"
   ]
  },
  {
   "cell_type": "code",
   "execution_count": 11,
   "id": "0f3d1897",
   "metadata": {},
   "outputs": [],
   "source": [
    "#program to find max and min in a list\n",
    "findmax= lambda a,b: a if (a>b) else b\n",
    "findmin= lambda a,b: a if (a<b) else b\n",
    "\n",
    "from functools import reduce\n",
    "def maxfind(l):\n",
    "    return reduce(findmax, l)\n",
    "def minfind(l):\n",
    "    return reduce(findmin, l)\n",
    "        "
   ]
  },
  {
   "cell_type": "code",
   "execution_count": 13,
   "id": "e317565a",
   "metadata": {},
   "outputs": [
    {
     "data": {
      "text/plain": [
       "2000"
      ]
     },
     "execution_count": 13,
     "metadata": {},
     "output_type": "execute_result"
    }
   ],
   "source": [
    "maxfind(l)"
   ]
  },
  {
   "cell_type": "code",
   "execution_count": 14,
   "id": "b207e365",
   "metadata": {},
   "outputs": [
    {
     "data": {
      "text/plain": [
       "1.2"
      ]
     },
     "execution_count": 14,
     "metadata": {},
     "output_type": "execute_result"
    }
   ],
   "source": [
    "minfind(l)"
   ]
  },
  {
   "cell_type": "code",
   "execution_count": 18,
   "id": "59c95a75",
   "metadata": {},
   "outputs": [
    {
     "data": {
      "text/plain": [
       "[0, 2, 4, 6, 8, 10, 12, 14, 16, 18]"
      ]
     },
     "execution_count": 18,
     "metadata": {},
     "output_type": "execute_result"
    }
   ],
   "source": [
    "\n",
    "list(filter(lambda T: True if T%2==0 else False, range(20)))\n",
    "    "
   ]
  },
  {
   "cell_type": "code",
   "execution_count": 24,
   "id": "b814f12d",
   "metadata": {},
   "outputs": [
    {
     "data": {
      "text/plain": [
       "[(1, 4), (2, 5), (3, 6), (4, 7), (5, 8), (6, 9), (7, 1), (8, 2), (9, 3)]"
      ]
     },
     "execution_count": 24,
     "metadata": {},
     "output_type": "execute_result"
    }
   ],
   "source": [
    "x=[1,2,3,4,5,6,7,8,9]\n",
    "y=[4,5,6,7,8,9,1,2,3]\n",
    "\n",
    "list(zip(x,y))"
   ]
  },
  {
   "cell_type": "code",
   "execution_count": 33,
   "id": "26d71da3",
   "metadata": {},
   "outputs": [
    {
     "name": "stdout",
     "output_type": "stream",
     "text": [
      "4 5 6 7 8 9 7 8 9 "
     ]
    }
   ],
   "source": [
    "for pair in list(zip(x,y)):\n",
    "    print(max(pair), end=' ', sep=' ')"
   ]
  },
  {
   "cell_type": "code",
   "execution_count": 31,
   "id": "ab0a0b8c",
   "metadata": {},
   "outputs": [],
   "source": [
    "l=list(map(lambda elem: max(elem), list(zip(x,y))))"
   ]
  },
  {
   "cell_type": "code",
   "execution_count": 32,
   "id": "c709ffa8",
   "metadata": {},
   "outputs": [
    {
     "data": {
      "text/plain": [
       "[4, 5, 6, 7, 8, 9, 7, 8, 9]"
      ]
     },
     "execution_count": 32,
     "metadata": {},
     "output_type": "execute_result"
    }
   ],
   "source": [
    "l"
   ]
  },
  {
   "cell_type": "code",
   "execution_count": 34,
   "id": "8f2931a3",
   "metadata": {},
   "outputs": [],
   "source": [
    "s='Rehan'\n",
    "l=list(s)"
   ]
  },
  {
   "cell_type": "code",
   "execution_count": 35,
   "id": "0b19f5d4",
   "metadata": {},
   "outputs": [
    {
     "data": {
      "text/plain": [
       "['R', 'e', 'h', 'a', 'n']"
      ]
     },
     "execution_count": 35,
     "metadata": {},
     "output_type": "execute_result"
    }
   ],
   "source": [
    "l"
   ]
  },
  {
   "cell_type": "code",
   "execution_count": 37,
   "id": "500e68a8",
   "metadata": {},
   "outputs": [
    {
     "data": {
      "text/plain": [
       "[(0, 'R'), (1, 'e'), (2, 'h'), (3, 'a'), (4, 'n')]"
      ]
     },
     "execution_count": 37,
     "metadata": {},
     "output_type": "execute_result"
    }
   ],
   "source": [
    "list(enumerate(l))"
   ]
  },
  {
   "cell_type": "code",
   "execution_count": 38,
   "id": "8bbd1fea",
   "metadata": {},
   "outputs": [],
   "source": [
    "#all and any\n",
    "a=[True,False]\n",
    "a=a*3\n"
   ]
  },
  {
   "cell_type": "code",
   "execution_count": 39,
   "id": "8c138b5e",
   "metadata": {},
   "outputs": [
    {
     "data": {
      "text/plain": [
       "[True, False, True, False, True, False]"
      ]
     },
     "execution_count": 39,
     "metadata": {},
     "output_type": "execute_result"
    }
   ],
   "source": [
    "a"
   ]
  },
  {
   "cell_type": "code",
   "execution_count": 40,
   "id": "6e811fdd",
   "metadata": {},
   "outputs": [
    {
     "data": {
      "text/plain": [
       "False"
      ]
     },
     "execution_count": 40,
     "metadata": {},
     "output_type": "execute_result"
    }
   ],
   "source": [
    "all(a)"
   ]
  },
  {
   "cell_type": "code",
   "execution_count": 41,
   "id": "cd69a87f",
   "metadata": {},
   "outputs": [
    {
     "data": {
      "text/plain": [
       "True"
      ]
     },
     "execution_count": 41,
     "metadata": {},
     "output_type": "execute_result"
    }
   ],
   "source": [
    "any(a)"
   ]
  },
  {
   "cell_type": "code",
   "execution_count": 42,
   "id": "06de56bd",
   "metadata": {},
   "outputs": [
    {
     "data": {
      "text/plain": [
       "(1+0j)"
      ]
     },
     "execution_count": 42,
     "metadata": {},
     "output_type": "execute_result"
    }
   ],
   "source": [
    "complex(1)"
   ]
  },
  {
   "cell_type": "code",
   "execution_count": 43,
   "id": "737e8981",
   "metadata": {},
   "outputs": [
    {
     "data": {
      "text/plain": [
       "(1+0j)"
      ]
     },
     "execution_count": 43,
     "metadata": {},
     "output_type": "execute_result"
    }
   ],
   "source": [
    "complex('1')"
   ]
  },
  {
   "cell_type": "code",
   "execution_count": 44,
   "id": "3dc5b5e6",
   "metadata": {},
   "outputs": [
    {
     "data": {
      "text/plain": [
       "2j"
      ]
     },
     "execution_count": 44,
     "metadata": {},
     "output_type": "execute_result"
    }
   ],
   "source": [
    "complex(2j)"
   ]
  },
  {
   "cell_type": "code",
   "execution_count": 45,
   "id": "81554244",
   "metadata": {},
   "outputs": [
    {
     "data": {
      "text/plain": [
       "(1+2j)"
      ]
     },
     "execution_count": 45,
     "metadata": {},
     "output_type": "execute_result"
    }
   ],
   "source": [
    "complex(1,2)"
   ]
  },
  {
   "cell_type": "code",
   "execution_count": 48,
   "id": "df0a180d",
   "metadata": {},
   "outputs": [
    {
     "ename": "TypeError",
     "evalue": "complex() second arg can't be a string",
     "output_type": "error",
     "traceback": [
      "\u001b[1;31m---------------------------------------------------------------------------\u001b[0m",
      "\u001b[1;31mTypeError\u001b[0m                                 Traceback (most recent call last)",
      "\u001b[1;32m~\\AppData\\Local\\Temp/ipykernel_1876/1169997205.py\u001b[0m in \u001b[0;36m<module>\u001b[1;34m\u001b[0m\n\u001b[1;32m----> 1\u001b[1;33m \u001b[0mcomplex\u001b[0m\u001b[1;33m(\u001b[0m\u001b[1;36m1\u001b[0m\u001b[1;33m,\u001b[0m\u001b[1;34m'1'\u001b[0m\u001b[1;33m)\u001b[0m\u001b[1;33m\u001b[0m\u001b[1;33m\u001b[0m\u001b[0m\n\u001b[0m",
      "\u001b[1;31mTypeError\u001b[0m: complex() second arg can't be a string"
     ]
    }
   ],
   "source": [
    "complex(1,'1')"
   ]
  },
  {
   "cell_type": "markdown",
   "id": "b157d715",
   "metadata": {},
   "source": [
    "Adv. functions test"
   ]
  },
  {
   "cell_type": "code",
   "execution_count": 49,
   "id": "204b8e7e",
   "metadata": {},
   "outputs": [],
   "source": [
    "#problem 1\n",
    "'''Done'''\n",
    "def wordlen(phrase):\n",
    "    ph=list(phrase.split())\n",
    "    return list(map(lambda l:len(l),ph))"
   ]
  },
  {
   "cell_type": "code",
   "execution_count": 50,
   "id": "d0b35019",
   "metadata": {},
   "outputs": [
    {
     "data": {
      "text/plain": [
       "[1, 3, 6, 2]"
      ]
     },
     "execution_count": 50,
     "metadata": {},
     "output_type": "execute_result"
    }
   ],
   "source": [
    "wordlen('A dog passes by')"
   ]
  },
  {
   "cell_type": "code",
   "execution_count": 51,
   "id": "5abbc717",
   "metadata": {},
   "outputs": [],
   "source": [
    "#problem 2\n",
    "from functools import reduce\n",
    "def digtonum(lst):\n",
    "    return reduce(lambda n1,n2: n1*10+n2 , lst)\n"
   ]
  },
  {
   "cell_type": "code",
   "execution_count": 52,
   "id": "1fd4e56b",
   "metadata": {},
   "outputs": [
    {
     "data": {
      "text/plain": [
       "12345"
      ]
     },
     "execution_count": 52,
     "metadata": {},
     "output_type": "execute_result"
    }
   ],
   "source": [
    "digtonum([1,2,3,4,5])"
   ]
  },
  {
   "cell_type": "code",
   "execution_count": 1,
   "id": "809dda5d",
   "metadata": {},
   "outputs": [],
   "source": [
    "#problem 3 \n",
    "def tarwords(seq,target):\n",
    "    return list(filter(lambda s: (s[0]==target.upper()) or (s[0]==target.lower()), seq))"
   ]
  },
  {
   "cell_type": "code",
   "execution_count": 2,
   "id": "0f11baa3",
   "metadata": {},
   "outputs": [
    {
     "data": {
      "text/plain": [
       "['hi', 'How', 'home']"
      ]
     },
     "execution_count": 2,
     "metadata": {},
     "output_type": "execute_result"
    }
   ],
   "source": [
    "tarwords(['hi','Rehan','How','is','ur','home'],'h')"
   ]
  },
  {
   "cell_type": "code",
   "execution_count": 3,
   "id": "261734ea",
   "metadata": {},
   "outputs": [],
   "source": [
    "def concatenate(l1,l2,conc):\n",
    "    return [(n1+conc+n2) for (n1,n2) in zip(l1,l2)]\n",
    "    "
   ]
  },
  {
   "cell_type": "code",
   "execution_count": 12,
   "id": "8264d5ec",
   "metadata": {},
   "outputs": [],
   "source": [
    "\n",
    "del(concatenate)"
   ]
  },
  {
   "cell_type": "code",
   "execution_count": 15,
   "id": "6dd8fed5",
   "metadata": {},
   "outputs": [
    {
     "name": "stdout",
     "output_type": "stream",
     "text": [
      "dict_keys(['__name__', '__doc__', '__package__', '__loader__', '__spec__', '__builtin__', '__builtins__', '_ih', '_oh', '_dh', 'In', 'Out', 'get_ipython', 'exit', 'quit', '_', '__', '___', '_i', '_ii', '_iii', '_i1', '_i2', '_2', '_i3', '_i4', '_4', '_i5', '_5', '_i6', '_6', '_i7', '_i8', '_i9', '_i10', '_i11', '_i12', '_i13', '_i14', '_i15'])\n"
     ]
    }
   ],
   "source": [
    "#Date: 9th Aug 2021\n",
    "#Python decorators\n",
    "print(locals().keys())\n"
   ]
  },
  {
   "cell_type": "code",
   "execution_count": 29,
   "id": "be6c7cb9",
   "metadata": {},
   "outputs": [],
   "source": [
    "def hello(name='Rehan'):\n",
    "    return 'Hello '+name\n"
   ]
  },
  {
   "cell_type": "code",
   "execution_count": 17,
   "id": "29cbe399",
   "metadata": {},
   "outputs": [
    {
     "data": {
      "text/plain": [
       "'Hello Rehan'"
      ]
     },
     "execution_count": 17,
     "metadata": {},
     "output_type": "execute_result"
    }
   ],
   "source": [
    "hello()"
   ]
  },
  {
   "cell_type": "code",
   "execution_count": 18,
   "id": "28d668c8",
   "metadata": {},
   "outputs": [],
   "source": [
    "greet = hello"
   ]
  },
  {
   "cell_type": "code",
   "execution_count": 19,
   "id": "c5623734",
   "metadata": {},
   "outputs": [
    {
     "data": {
      "text/plain": [
       "<function __main__.hello(name='Rehan')>"
      ]
     },
     "execution_count": 19,
     "metadata": {},
     "output_type": "execute_result"
    }
   ],
   "source": [
    "greet"
   ]
  },
  {
   "cell_type": "code",
   "execution_count": 20,
   "id": "c3a30f61",
   "metadata": {},
   "outputs": [
    {
     "data": {
      "text/plain": [
       "'Hello Rehan'"
      ]
     },
     "execution_count": 20,
     "metadata": {},
     "output_type": "execute_result"
    }
   ],
   "source": [
    "greet()"
   ]
  },
  {
   "cell_type": "code",
   "execution_count": 21,
   "id": "fa6886c1",
   "metadata": {},
   "outputs": [],
   "source": [
    "g=hello()"
   ]
  },
  {
   "cell_type": "code",
   "execution_count": 22,
   "id": "87de39ee",
   "metadata": {},
   "outputs": [
    {
     "data": {
      "text/plain": [
       "'Hello Rehan'"
      ]
     },
     "execution_count": 22,
     "metadata": {},
     "output_type": "execute_result"
    }
   ],
   "source": [
    "g"
   ]
  },
  {
   "cell_type": "code",
   "execution_count": 23,
   "id": "2626a99d",
   "metadata": {},
   "outputs": [],
   "source": [
    "def hello():\n",
    "    return 'New one'"
   ]
  },
  {
   "cell_type": "code",
   "execution_count": 30,
   "id": "ddca4d3b",
   "metadata": {},
   "outputs": [
    {
     "data": {
      "text/plain": [
       "'Hello Rehan'"
      ]
     },
     "execution_count": 30,
     "metadata": {},
     "output_type": "execute_result"
    }
   ],
   "source": [
    "hello()"
   ]
  },
  {
   "cell_type": "code",
   "execution_count": 25,
   "id": "13b02872",
   "metadata": {},
   "outputs": [
    {
     "data": {
      "text/plain": [
       "'Hello Rehan'"
      ]
     },
     "execution_count": 25,
     "metadata": {},
     "output_type": "execute_result"
    }
   ],
   "source": [
    "greet()"
   ]
  },
  {
   "cell_type": "code",
   "execution_count": 26,
   "id": "a016f2a7",
   "metadata": {},
   "outputs": [
    {
     "data": {
      "text/plain": [
       "'Hello Rehan'"
      ]
     },
     "execution_count": 26,
     "metadata": {},
     "output_type": "execute_result"
    }
   ],
   "source": [
    "g"
   ]
  },
  {
   "cell_type": "code",
   "execution_count": 31,
   "id": "2f679aa5",
   "metadata": {},
   "outputs": [],
   "source": [
    "del(hello)\n",
    "del(greet)\n",
    "del(g)"
   ]
  },
  {
   "cell_type": "code",
   "execution_count": 2,
   "id": "33ab3dc7",
   "metadata": {},
   "outputs": [
    {
     "name": "stdout",
     "output_type": "stream",
     "text": [
      "3.141592653589793\n"
     ]
    }
   ],
   "source": [
    "from math import pi\n",
    "print(pi)"
   ]
  },
  {
   "cell_type": "code",
   "execution_count": 5,
   "id": "4b5e23b0",
   "metadata": {},
   "outputs": [],
   "source": [
    "#Finding pi to n digits\n",
    "def pi_n(n):\n",
    "    from math import pi\n",
    "    return round(pi,n)"
   ]
  },
  {
   "cell_type": "code",
   "execution_count": 6,
   "id": "172ce564",
   "metadata": {},
   "outputs": [
    {
     "data": {
      "text/plain": [
       "3.142"
      ]
     },
     "execution_count": 6,
     "metadata": {},
     "output_type": "execute_result"
    }
   ],
   "source": [
    "pi_n(3)"
   ]
  },
  {
   "cell_type": "code",
   "execution_count": 7,
   "id": "a4a0adfd",
   "metadata": {},
   "outputs": [
    {
     "data": {
      "text/plain": [
       "2.718"
      ]
     },
     "execution_count": 7,
     "metadata": {},
     "output_type": "execute_result"
    }
   ],
   "source": [
    "#Findfing e to n digits\n",
    "def e_n(n):\n",
    "    from math import e\n",
    "    return round(e,n)\n",
    "\n",
    "e_n(3)"
   ]
  },
  {
   "cell_type": "markdown",
   "id": "baf32fbf",
   "metadata": {},
   "source": [
    "Generators"
   ]
  },
  {
   "cell_type": "code",
   "execution_count": 6,
   "id": "a8c9da29",
   "metadata": {},
   "outputs": [],
   "source": [
    "def gencubes(n):\n",
    "    for i in range(n):\n",
    "        yield i**3"
   ]
  },
  {
   "cell_type": "code",
   "execution_count": 2,
   "id": "f643686e",
   "metadata": {},
   "outputs": [
    {
     "name": "stdout",
     "output_type": "stream",
     "text": [
      "0 1 8 27 64 125 216 343 512 729 "
     ]
    }
   ],
   "source": [
    "for i in gencubes(10):\n",
    "    print(i, end=' ')"
   ]
  },
  {
   "cell_type": "code",
   "execution_count": 7,
   "id": "6d60b807",
   "metadata": {},
   "outputs": [
    {
     "data": {
      "text/plain": [
       "<generator object gencubes at 0x0000014260D7E2E0>"
      ]
     },
     "execution_count": 7,
     "metadata": {},
     "output_type": "execute_result"
    }
   ],
   "source": [
    "gencubes(10)"
   ]
  },
  {
   "cell_type": "code",
   "execution_count": 25,
   "id": "0ff90a52",
   "metadata": {},
   "outputs": [],
   "source": [
    "#fibo generator \n",
    "def genfibo(n):\n",
    "    a1=1\n",
    "    a2=1\n",
    "    for i in range(n):\n",
    "        yield a1\n",
    "        temp=a2\n",
    "        a2=a1+a2\n",
    "        a1=temp\n",
    "        "
   ]
  },
  {
   "cell_type": "code",
   "execution_count": 26,
   "id": "54eafbc8",
   "metadata": {},
   "outputs": [
    {
     "data": {
      "text/plain": [
       "[1, 1, 2, 3, 5, 8, 13, 21, 34, 55]"
      ]
     },
     "execution_count": 26,
     "metadata": {},
     "output_type": "execute_result"
    }
   ],
   "source": [
    "list(genfibo(10))\n",
    "    "
   ]
  },
  {
   "cell_type": "code",
   "execution_count": 27,
   "id": "85cb5ff5",
   "metadata": {},
   "outputs": [],
   "source": [
    "#square generator \n",
    "def gensq(n):\n",
    "    for i in range(n+1):\n",
    "        yield i**2"
   ]
  },
  {
   "cell_type": "code",
   "execution_count": 28,
   "id": "0eb41a11",
   "metadata": {},
   "outputs": [
    {
     "name": "stdout",
     "output_type": "stream",
     "text": [
      "0\n",
      "1\n",
      "4\n"
     ]
    }
   ],
   "source": [
    "for i in gensq(2):\n",
    "    print(i)"
   ]
  },
  {
   "cell_type": "code",
   "execution_count": 33,
   "id": "e7124bc1",
   "metadata": {},
   "outputs": [],
   "source": [
    "#generating n random no.between any two numbers\n",
    "from random import randint\n",
    "def genran(low,high,n=1):\n",
    "    while n!=0:\n",
    "        yield randint(low,high)\n",
    "        n-=1"
   ]
  },
  {
   "cell_type": "code",
   "execution_count": 36,
   "id": "bee06a36",
   "metadata": {},
   "outputs": [
    {
     "data": {
      "text/plain": [
       "[4, 9, 10]"
      ]
     },
     "execution_count": 36,
     "metadata": {},
     "output_type": "execute_result"
    }
   ],
   "source": [
    "list(genran(1,10,3))"
   ]
  },
  {
   "cell_type": "code",
   "execution_count": 39,
   "id": "21beb084",
   "metadata": {},
   "outputs": [
    {
     "data": {
      "text/plain": [
       "'0-1-2-3-4-5-6-7-8-9'"
      ]
     },
     "execution_count": 39,
     "metadata": {},
     "output_type": "execute_result"
    }
   ],
   "source": [
    "'-'.join(str(n) for n in range(10))"
   ]
  },
  {
   "cell_type": "code",
   "execution_count": null,
   "id": "92ae7da3",
   "metadata": {},
   "outputs": [],
   "source": []
  }
 ],
 "metadata": {
  "kernelspec": {
   "display_name": "Python 3 (ipykernel)",
   "language": "python",
   "name": "python3"
  },
  "language_info": {
   "codemirror_mode": {
    "name": "ipython",
    "version": 3
   },
   "file_extension": ".py",
   "mimetype": "text/x-python",
   "name": "python",
   "nbconvert_exporter": "python",
   "pygments_lexer": "ipython3",
   "version": "3.9.6"
  }
 },
 "nbformat": 4,
 "nbformat_minor": 5
}
